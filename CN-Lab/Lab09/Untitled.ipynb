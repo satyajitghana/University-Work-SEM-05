{
 "cells": [
  {
   "cell_type": "code",
   "execution_count": 7,
   "metadata": {},
   "outputs": [],
   "source": [
    "#include <iostream>\n",
    "#include <algorithm>\n",
    "#include <string>"
   ]
  },
  {
   "cell_type": "code",
   "execution_count": 11,
   "metadata": {},
   "outputs": [],
   "source": [
    "char base36chars[37] = \"0123456789ABCDEFGHIJKLMNOPQRSTUVWXYZ\";"
   ]
  },
  {
   "cell_type": "code",
   "execution_count": 12,
   "metadata": {},
   "outputs": [],
   "source": [
    "unsigned long long pow36[11];"
   ]
  },
  {
   "cell_type": "code",
   "execution_count": 14,
   "metadata": {},
   "outputs": [],
   "source": [
    "void calc_pow_36();\n",
    "unsigned long long base36encode(std::string);"
   ]
  },
  {
   "cell_type": "code",
   "execution_count": 15,
   "metadata": {},
   "outputs": [],
   "source": [
    "void calc_pow_36() {\n",
    "    pow36[0] = 1;\n",
    "    \n",
    "    for (int i = 0 ; i <= 9 ; i++) {\n",
    "        pow36[i+1] = pow36[i] * 36ull; \n",
    "    }\n",
    "}"
   ]
  },
  {
   "cell_type": "code",
   "execution_count": 23,
   "metadata": {},
   "outputs": [],
   "source": [
    "typedef unsigned long long encode_format"
   ]
  },
  {
   "cell_type": "code",
   "execution_count": 32,
   "metadata": {},
   "outputs": [
    {
     "name": "stderr",
     "output_type": "stream",
     "text": [
      "\u001b[1minput_line_38:4:26: \u001b[0m\u001b[0;1;31merror: \u001b[0m\u001b[1mno member named 'begin' in 'std::__cxx11::basic_string<char>'\u001b[0m\n",
      "    std::reverse(message.begin(), message.end());\n",
      "\u001b[0;1;32m                 ~~~~~~~ ^\n",
      "\u001b[0m\u001b[1minput_line_38:4:43: \u001b[0m\u001b[0;1;31merror: \u001b[0m\u001b[1mno member named 'end' in 'std::__cxx11::basic_string<char>'\u001b[0m\n",
      "    std::reverse(message.begin(), message.end());\n",
      "\u001b[0;1;32m                                  ~~~~~~~ ^\n",
      "\u001b[0m\u001b[1minput_line_38:6:18: \u001b[0m\u001b[0;1;31merror: \u001b[0m\u001b[1minvalid range expression of type 'std::__cxx11::basic_string<char>'; no viable\n",
      "      'begin' function available\u001b[0m\n",
      "    for (char& c : message) {\n",
      "\u001b[0;1;32m                 ^ ~~~~~~~\n",
      "\u001b[0m\u001b[1m/home/shadowleaf/.conda/envs/cling/bin/../lib/gcc/x86_64-conda_cos6-linux-gnu/7.3.0/../../../../x86_64-conda_cos6-linux-gnu/include/c++/7.3.0/initializer_list:89:5: \u001b[0m\u001b[0;1;30mnote: \u001b[0mcandidate template ignored: could not match 'initializer_list' against\n",
      "      'basic_string'\u001b[0m\n",
      "    begin(initializer_list<_Tp> __ils) noexcept\n",
      "\u001b[0;1;32m    ^\n",
      "\u001b[0m\u001b[1m/home/shadowleaf/.conda/envs/cling/bin/../lib/gcc/x86_64-conda_cos6-linux-gnu/7.3.0/../../../../x86_64-conda_cos6-linux-gnu/include/c++/7.3.0/bits/range_access.h:48:5: \u001b[0m\u001b[0;1;30mnote: \u001b[0mcandidate template ignored: substitution failure [with _Container =\n",
      "      std::__cxx11::basic_string<char>]: no member named 'begin' in\n",
      "      'std::__cxx11::basic_string<char>'\u001b[0m\n",
      "    begin(_Container& __cont) -> decltype(__cont.begin())\n",
      "\u001b[0;1;32m    ^                                            ~~~~~\n",
      "\u001b[0m\u001b[1m/home/shadowleaf/.conda/envs/cling/bin/../lib/gcc/x86_64-conda_cos6-linux-gnu/7.3.0/../../../../x86_64-conda_cos6-linux-gnu/include/c++/7.3.0/bits/range_access.h:58:5: \u001b[0m\u001b[0;1;30mnote: \u001b[0mcandidate template ignored: substitution failure [with _Container =\n",
      "      std::__cxx11::basic_string<char>]: no member named 'begin' in\n",
      "      'std::__cxx11::basic_string<char>'\u001b[0m\n",
      "    begin(const _Container& __cont) -> decltype(__cont.begin())\n",
      "\u001b[0;1;32m    ^                                                  ~~~~~\n",
      "\u001b[0m\u001b[1m/home/shadowleaf/.conda/envs/cling/bin/../lib/gcc/x86_64-conda_cos6-linux-gnu/7.3.0/../../../../x86_64-conda_cos6-linux-gnu/include/c++/7.3.0/bits/range_access.h:87:5: \u001b[0m\u001b[0;1;30mnote: \u001b[0mcandidate template ignored: could not match '_Tp [_Nm]' against\n",
      "      'std::__cxx11::basic_string<char>'\u001b[0m\n",
      "    begin(_Tp (&__arr)[_Nm])\n",
      "\u001b[0;1;32m    ^\n",
      "\u001b[0m\u001b[1m/home/shadowleaf/.conda/envs/cling/bin/../lib/gcc/x86_64-conda_cos6-linux-gnu/7.3.0/../../../../x86_64-conda_cos6-linux-gnu/include/c++/7.3.0/valarray:1201:5: \u001b[0m\u001b[0;1;30mnote: \u001b[0mcandidate template ignored: could not match 'valarray' against 'basic_string'\u001b[0m\n",
      "    begin(valarray<_Tp>& __va)\n",
      "\u001b[0;1;32m    ^\n",
      "\u001b[0m\u001b[1m/home/shadowleaf/.conda/envs/cling/bin/../lib/gcc/x86_64-conda_cos6-linux-gnu/7.3.0/../../../../x86_64-conda_cos6-linux-gnu/include/c++/7.3.0/valarray:1211:5: \u001b[0m\u001b[0;1;30mnote: \u001b[0mcandidate template ignored: could not match 'valarray' against 'basic_string'\u001b[0m\n",
      "    begin(const valarray<_Tp>& __va)\n",
      "\u001b[0;1;32m    ^\n",
      "\u001b[0m"
     ]
    },
    {
     "ename": "Interpreter Error",
     "evalue": "",
     "output_type": "error",
     "traceback": [
      "Interpreter Error: "
     ]
    }
   ],
   "source": [
    "encode_format base36encode(std::string message) {\n",
    "    unsigned long long n;\n",
    "    unsigned long long encoded;\n",
    "\n",
    "    std::reverse(message.begin(), message.end());\n",
    "\n",
    "    int i = 0;\n",
    "    for (char& c : message) {\n",
    "        if (c >= '0' and c <= '9') {\n",
    "            n = c - '0';\n",
    "        } else if (c >= 'A' and c <= 'Z') {\n",
    "            n = c - 'A';\n",
    "        } else if (c >= 'a' and c <= 'z') {\n",
    "            n = c - 'a';\n",
    "        } else {\n",
    "            return 0;\n",
    "        }\n",
    "        encoded += pow36[i] * n;\n",
    "        i++;\n",
    "    }\n",
    "\n",
    "    return encoded;\n",
    "}"
   ]
  },
  {
   "cell_type": "code",
   "execution_count": null,
   "metadata": {},
   "outputs": [],
   "source": []
  }
 ],
 "metadata": {
  "kernelspec": {
   "display_name": "C++14 [conda env:.conda-cling]",
   "language": "C++14",
   "name": "conda-env-.conda-cling-xcpp14"
  },
  "language_info": {
   "codemirror_mode": "text/x-c++src",
   "file_extension": ".cpp",
   "mimetype": "text/x-c++src",
   "name": "c++",
   "version": "-std=c++14"
  }
 },
 "nbformat": 4,
 "nbformat_minor": 2
}
